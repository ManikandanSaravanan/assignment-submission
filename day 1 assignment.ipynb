{
 "cells": [
  {
   "cell_type": "code",
   "execution_count": 5,
   "metadata": {},
   "outputs": [
    {
     "name": "stdout",
     "output_type": "stream",
     "text": [
      "guess:RAINBOW\n",
      "guess is correct\n"
     ]
    }
   ],
   "source": [
    "jumble=\"OBANWRI\"\n",
    "correct=\"RAINBOW\"\n",
    "guess=input('guess:').upper()\n",
    "if guess == correct:\n",
    "    print('guess',\"is correct\")\n",
    "else:\n",
    "    print('guess',\"is wrong\")"
   ]
  },
  {
   "cell_type": "code",
   "execution_count": 8,
   "metadata": {},
   "outputs": [
    {
     "name": "stdout",
     "output_type": "stream",
     "text": [
      "LETS UPGRADE\n"
     ]
    }
   ],
   "source": [
    "value=\"lets upgrade\"\n",
    "x=value.upper()\n",
    "print(x)"
   ]
  },
  {
   "cell_type": "code",
   "execution_count": 9,
   "metadata": {},
   "outputs": [
    {
     "name": "stdout",
     "output_type": "stream",
     "text": [
      "20\n",
      "10\n",
      "loss\n"
     ]
    }
   ],
   "source": [
    "cost=int(input())\n",
    "sell=int(input())\n",
    "if cost>sell:\n",
    "    print(\"loss\")\n",
    "elif cost<sell:\n",
    "    prin(\"profit\")\n",
    "else:\n",
    "    print(\"both\")"
   ]
  },
  {
   "cell_type": "code",
   "execution_count": 10,
   "metadata": {},
   "outputs": [
    {
     "name": "stdout",
     "output_type": "stream",
     "text": [
      "100\n",
      "1.25 euros\n"
     ]
    }
   ],
   "source": [
    "amount=int(input())\n",
    "euro=amount/80\n",
    "print(euro,\"euros\")\n"
   ]
  },
  {
   "cell_type": "code",
   "execution_count": null,
   "metadata": {},
   "outputs": [],
   "source": []
  }
 ],
 "metadata": {
  "kernelspec": {
   "display_name": "Python 3",
   "language": "python",
   "name": "python3"
  },
  "language_info": {
   "codemirror_mode": {
    "name": "ipython",
    "version": 3
   },
   "file_extension": ".py",
   "mimetype": "text/x-python",
   "name": "python",
   "nbconvert_exporter": "python",
   "pygments_lexer": "ipython3",
   "version": "3.8.3"
  }
 },
 "nbformat": 4,
 "nbformat_minor": 4
}
